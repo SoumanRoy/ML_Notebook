{
 "cells": [
  {
   "cell_type": "markdown",
   "metadata": {},
   "source": [
    "<img src='cover.jpg'alt=\"Matrix\" height=\"full\" width=\"full\" align='left'>"
   ]
  },
  {
   "cell_type": "code",
   "execution_count": 23,
   "metadata": {
    "collapsed": true
   },
   "outputs": [],
   "source": [
    "import numpy as np \n",
    "import matplotlib.pyplot as plt"
   ]
  },
  {
   "cell_type": "markdown",
   "metadata": {},
   "source": [
    "# Vectors \n",
    " \n",
    "What is Vector?\n",
    "A n-dimensional vector y is an ordered collection of k real numbers y1 , y2 , . . . , yn, and is written as \n",
    "y = (y1,y2,...,yn). "
   ]
  },
  {
   "cell_type": "code",
   "execution_count": 2,
   "metadata": {},
   "outputs": [
    {
     "data": {
      "text/plain": [
       "[1, 2, 3, 4, 5, 6]"
      ]
     },
     "execution_count": 2,
     "metadata": {},
     "output_type": "execute_result"
    }
   ],
   "source": [
    "#vectors\n",
    "\n",
    "y = [1,2,3,4,5,6]\n",
    "y"
   ]
  },
  {
   "cell_type": "code",
   "execution_count": 4,
   "metadata": {},
   "outputs": [
    {
     "name": "stdout",
     "output_type": "stream",
     "text": [
      "[1, 2, 3, 4, 5, 6]\n",
      "<class 'list'>\n",
      "<class 'numpy.ndarray'>\n"
     ]
    }
   ],
   "source": [
    "#using numpy\n",
    "import numpy as np\n",
    "\n",
    "x = [1,2,3,4,5,6]\n",
    "y = np.array([1,2,3,4,5,6])\n",
    "print(x)\n",
    "print(type(x))\n",
    "print(type(y))\n"
   ]
  },
  {
   "cell_type": "markdown",
   "metadata": {},
   "source": [
    "# Matrices\n",
    "\n",
    "A Matrix is defined to be a rectangular array of numbers. Whose dimension is m by n. A is called square if m = n. The numbers ai j are referred to as the elementsof A.\n",
    "\n",
    "<img src='matrix.png' alt=\"Matrix\" height=\"300\" width=\"300\" align='left'>"
   ]
  },
  {
   "cell_type": "code",
   "execution_count": 39,
   "metadata": {},
   "outputs": [
    {
     "name": "stdout",
     "output_type": "stream",
     "text": [
      "[[1 5 3]\n",
      " [4 7 5]\n",
      " [7 5 6]]\n",
      "(3, 3)\n"
     ]
    }
   ],
   "source": [
    "# matrices\n",
    "\n",
    "m = np.array([[1,5,3],\n",
    "             [4,7,5],\n",
    "             [7,5,6]])\n",
    "\n",
    "# preview matrix\n",
    "print(m)\n",
    "\n",
    "# view dimensions\n",
    "print(m.shape)"
   ]
  },
  {
   "cell_type": "markdown",
   "metadata": {},
   "source": [
    "# Matrix Transpose \n"
   ]
  },
  {
   "cell_type": "code",
   "execution_count": 14,
   "metadata": {},
   "outputs": [
    {
     "name": "stdout",
     "output_type": "stream",
     "text": [
      "Matrix Transpose:\n",
      " [[1 4 7]\n",
      " [5 7 5]\n",
      " [3 5 6]]\n"
     ]
    }
   ],
   "source": [
    "# matrix transpose\n",
    "\n",
    "print('Matrix Transpose:\\n',m.transpose(),)"
   ]
  },
  {
   "cell_type": "markdown",
   "metadata": {},
   "source": [
    "# Matrix Determinant"
   ]
  },
  {
   "cell_type": "code",
   "execution_count": 17,
   "metadata": {},
   "outputs": [
    {
     "name": "stdout",
     "output_type": "stream",
     "text": [
      "Matrix Determinant: -15.0 \n",
      "\n"
     ]
    }
   ],
   "source": [
    "# matrix determinant\n",
    "\n",
    "print ('Matrix Determinant:',np.linalg.det(m),'\\n')"
   ]
  },
  {
   "cell_type": "markdown",
   "metadata": {},
   "source": [
    "# Matrix Inverse\n"
   ]
  },
  {
   "cell_type": "code",
   "execution_count": 19,
   "metadata": {},
   "outputs": [
    {
     "name": "stdout",
     "output_type": "stream",
     "text": [
      "Matrix Inverse:\n",
      " [[-1.13333333  1.         -0.26666667]\n",
      " [-0.73333333  1.         -0.46666667]\n",
      " [ 1.93333333 -2.          0.86666667]]\n"
     ]
    }
   ],
   "source": [
    "# matrix inverse\n",
    "m_inv = np.linalg.inv(m)\n",
    "print('Matrix Inverse:\\n',m_inv)"
   ]
  },
  {
   "cell_type": "markdown",
   "metadata": {},
   "source": [
    "# Identity Matrix\n"
   ]
  },
  {
   "cell_type": "code",
   "execution_count": 20,
   "metadata": {},
   "outputs": [
    {
     "name": "stdout",
     "output_type": "stream",
     "text": [
      "Product of matrix and its inverse:\n",
      " [[ 1.  0.  0.]\n",
      " [ 0.  1.  0.]\n",
      " [ 0.  0.  1.]]\n"
     ]
    }
   ],
   "source": [
    "# identity matrix (Original Matrix * Matrix Inverse)\n",
    "\n",
    "iden_m = np.dot(m, m_inv)\n",
    "iden_m = np.round(np.abs(iden_m), 0)\n",
    "\n",
    "print('Product of matrix and its inverse:\\n',iden_m)\n"
   ]
  },
  {
   "cell_type": "markdown",
   "metadata": {},
   "source": [
    "# Eigen Decompostion\n",
    "\n",
    "Eigen means own or self. \n",
    "Eigendecomposition is the method to decompose a square matrix into its eigenvalues and eigenvectors. \n",
    "For a matrix A, if\n",
    "        Av=λv\n",
    "then \n",
    "v is an eigenvector of matrix A and \n",
    "λ is the corresponding eigenvalue. \n",
    "That is, if matrix A is multiplied by a vector and the result is a scaled version of the same vector, then it is an eigenvector of A and the scaling factor is its eigenvalue.\n",
    "\n"
   ]
  },
  {
   "cell_type": "code",
   "execution_count": 32,
   "metadata": {},
   "outputs": [
    {
     "name": "stdout",
     "output_type": "stream",
     "text": [
      "Eigen Value: [ -1.53771503  10.70683037   5.83088467] \n",
      "\n",
      "Eigen Vector:\n",
      " [[ 0.88691954 -0.43837763 -0.04359003]\n",
      " [-0.29794271 -0.85425723 -0.63258938]\n",
      " [-0.35299273 -0.27940945  0.77325971]] \n",
      "\n"
     ]
    }
   ],
   "source": [
    "# eigendecomposition\n",
    "\n",
    "m = np.array([[1,4,3],\n",
    "              [4,8,2],\n",
    "              [3,0,6]])\n",
    "\n",
    "eigen_vals, eigen_vecs = np.linalg.eig(m)\n",
    "\n",
    "print('Eigen Value:', eigen_vals, '\\n')\n",
    "print('Eigen Vector:\\n', eigen_vecs, '\\n')\n"
   ]
  },
  {
   "cell_type": "markdown",
   "metadata": {},
   "source": [
    "# SVD\n",
    "\n",
    "#####  SVD a.k.a Singular Value Decomposition is a matrix factorization method. Matrix Factorization is a representation of a matrix into a product of matrices. There are many different matrix factorization and each used for different class of problems.\n",
    "\n",
    "\n",
    "<img src='SVD.png' height=\"full\" width=\"full\" align='left'>  <br>\n",
    "A is an m × n matrix <br>\n",
    "U is an m × n orthogonal matrix <br>\n",
    "S is an n × n diagonal matrix <br>\n",
    "V is an n × n orthogonal matrix <br>\n",
    "\n",
    "##### The diagonal values of Σ are known as Singular values of M.\n",
    "Conjugate Transpose: The conjugate transpose of a matrix interchanges the row and column index for each element.<br>\n",
    "Identity matrix: It is a square matrix in which all the elements of the principal diagonal are ones and all other elements are zeros.<br>\n",
    "Diagonal Matrix: It is a matrix in which the entries outside the main diagonal are all zero.<br>\n",
    "Unitary matrix: Matrices whose conjugate transpose is also its inverse, that is UU*=I.<br>\n",
    "Singular Values: Basically it denotes the square root of the eigenvalues of XX* where X is a matrix <br>"
   ]
  },
  {
   "cell_type": "code",
   "execution_count": 38,
   "metadata": {},
   "outputs": [
    {
     "name": "stdout",
     "output_type": "stream",
     "text": [
      "Getting SVD outputs:-\n",
      "\n",
      "U:\n",
      " [[-0.20851336 -0.9652919   0.15726959]\n",
      " [-0.65219648  0.25706784  0.71313104]\n",
      " [-0.72880857  0.04612668 -0.68316206]] \n",
      "\n",
      "S:\n",
      " [ 17.40756876   0.93974996   0.3056466 ] \n",
      "\n",
      "VT:\n",
      " [[-0.32931271 -0.63313747 -0.70049275]\n",
      " [ 0.26335319 -0.77402232  0.57579037]\n",
      " [ 0.90675148 -0.00513808 -0.42163416]] \n",
      "\n"
     ]
    }
   ],
   "source": [
    "# SVD\n",
    "m = np.array([[1, 3, 2],\n",
    "              [4, 7, 8],\n",
    "              [4, 8, 9]])\n",
    "\n",
    "U, S, VT = np.linalg.svd(m)\n",
    "\n",
    "print ('Getting SVD outputs:-\\n')\n",
    "print('U:\\n', U, '\\n')\n",
    "print('S:\\n', S, '\\n')\n",
    "print('VT:\\n', VT, '\\n')"
   ]
  },
  {
   "cell_type": "markdown",
   "metadata": {},
   "source": [
    "# Descriptive Statistics"
   ]
  },
  {
   "cell_type": "code",
   "execution_count": 46,
   "metadata": {},
   "outputs": [
    {
     "ename": "SyntaxError",
     "evalue": "invalid syntax (<ipython-input-46-a2d99981cb56>, line 2)",
     "output_type": "error",
     "traceback": [
      "\u001b[0;36m  File \u001b[0;32m\"<ipython-input-46-a2d99981cb56>\"\u001b[0;36m, line \u001b[0;32m2\u001b[0m\n\u001b[0;31m    import scipy as *\u001b[0m\n\u001b[0m                    ^\u001b[0m\n\u001b[0;31mSyntaxError\u001b[0m\u001b[0;31m:\u001b[0m invalid syntax\n"
     ]
    }
   ],
   "source": [
    "# descriptive statistics\n",
    "import scipy as *\n",
    "import numpy as np\n",
    "\n",
    "# get data\n",
    "nums = np.random.randint(1,30, size=(1,18))[0]\n",
    "print('Data: ', nums)"
   ]
  },
  {
   "cell_type": "code",
   "execution_count": 47,
   "metadata": {},
   "outputs": [
    {
     "name": "stdout",
     "output_type": "stream",
     "text": [
      "Mean: 17.0\n",
      "Median: 18.0\n"
     ]
    },
    {
     "ename": "NameError",
     "evalue": "name 'scipy' is not defined",
     "output_type": "error",
     "traceback": [
      "\u001b[0;31m---------------------------------------------------------------------------\u001b[0m",
      "\u001b[0;31mNameError\u001b[0m                                 Traceback (most recent call last)",
      "\u001b[0;32m<ipython-input-47-3a06aed2f625>\u001b[0m in \u001b[0;36m<module>\u001b[0;34m()\u001b[0m\n\u001b[1;32m      2\u001b[0m \u001b[0mprint\u001b[0m \u001b[0;34m(\u001b[0m\u001b[0;34m'Mean:'\u001b[0m\u001b[0;34m,\u001b[0m \u001b[0msp\u001b[0m\u001b[0;34m.\u001b[0m\u001b[0mmean\u001b[0m\u001b[0;34m(\u001b[0m\u001b[0mnums\u001b[0m\u001b[0;34m)\u001b[0m\u001b[0;34m)\u001b[0m\u001b[0;34m\u001b[0m\u001b[0m\n\u001b[1;32m      3\u001b[0m \u001b[0mprint\u001b[0m \u001b[0;34m(\u001b[0m\u001b[0;34m'Median:'\u001b[0m\u001b[0;34m,\u001b[0m \u001b[0msp\u001b[0m\u001b[0;34m.\u001b[0m\u001b[0mmedian\u001b[0m\u001b[0;34m(\u001b[0m\u001b[0mnums\u001b[0m\u001b[0;34m)\u001b[0m\u001b[0;34m)\u001b[0m\u001b[0;34m\u001b[0m\u001b[0m\n\u001b[0;32m----> 4\u001b[0;31m \u001b[0mprint\u001b[0m \u001b[0;34m(\u001b[0m\u001b[0;34m'Mode:'\u001b[0m\u001b[0;34m,\u001b[0m \u001b[0mscipy\u001b[0m\u001b[0;34m.\u001b[0m\u001b[0mstats\u001b[0m\u001b[0;34m.\u001b[0m\u001b[0mmode\u001b[0m\u001b[0;34m(\u001b[0m\u001b[0mnums\u001b[0m\u001b[0;34m)\u001b[0m\u001b[0;34m)\u001b[0m\u001b[0;34m\u001b[0m\u001b[0m\n\u001b[0m\u001b[1;32m      5\u001b[0m \u001b[0mprint\u001b[0m \u001b[0;34m(\u001b[0m\u001b[0;34m'Standard Deviation:'\u001b[0m\u001b[0;34m,\u001b[0m \u001b[0msp\u001b[0m\u001b[0;34m.\u001b[0m\u001b[0mstd\u001b[0m\u001b[0;34m(\u001b[0m\u001b[0mnums\u001b[0m\u001b[0;34m)\u001b[0m\u001b[0;34m)\u001b[0m\u001b[0;34m\u001b[0m\u001b[0m\n\u001b[1;32m      6\u001b[0m \u001b[0mprint\u001b[0m \u001b[0;34m(\u001b[0m\u001b[0;34m'Variance:'\u001b[0m\u001b[0;34m,\u001b[0m \u001b[0msp\u001b[0m\u001b[0;34m.\u001b[0m\u001b[0mvar\u001b[0m\u001b[0;34m(\u001b[0m\u001b[0mnums\u001b[0m\u001b[0;34m)\u001b[0m\u001b[0;34m)\u001b[0m\u001b[0;34m\u001b[0m\u001b[0m\n",
      "\u001b[0;31mNameError\u001b[0m: name 'scipy' is not defined"
     ]
    }
   ],
   "source": [
    "# get descriptive stats\n",
    "print ('Mean:', sp.mean(nums))\n",
    "print ('Median:', sp.median(nums))\n",
    "print ('Mode:', scipy.stats.mode(nums))\n",
    "print ('Standard Deviation:', sp.std(nums))\n",
    "print ('Variance:', sp.var(nums))\n",
    "print ('Skew:', sp.stats.skew(nums))\n",
    "print ('Kurtosis:', sp.stats.kurtosis(nums))"
   ]
  },
  {
   "cell_type": "code",
   "execution_count": null,
   "metadata": {
    "collapsed": true
   },
   "outputs": [],
   "source": []
  }
 ],
 "metadata": {
  "kernelspec": {
   "display_name": "Python 3",
   "language": "python",
   "name": "python3"
  },
  "language_info": {
   "codemirror_mode": {
    "name": "ipython",
    "version": 3
   },
   "file_extension": ".py",
   "mimetype": "text/x-python",
   "name": "python",
   "nbconvert_exporter": "python",
   "pygments_lexer": "ipython3",
   "version": "3.6.3"
  }
 },
 "nbformat": 4,
 "nbformat_minor": 2
}
